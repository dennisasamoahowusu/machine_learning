{
 "cells": [
  {
   "cell_type": "code",
   "execution_count": 1,
   "metadata": {},
   "outputs": [],
   "source": [
    "import numpy as np\n",
    "from sklearn.datasets import make_moons\n",
    "import matplotlib.pyplot as plt\n"
   ]
  },
  {
   "cell_type": "code",
   "execution_count": 2,
   "metadata": {},
   "outputs": [
    {
     "name": "stdout",
     "output_type": "stream",
     "text": [
      "200\n"
     ]
    }
   ],
   "source": [
    "#displaying data\n",
    "np.random.seed(0)\n",
    "X, y = make_moons(200, noise=0.20)\n",
    "plt.scatter(X[:,0], X[:,1], s=40, c=y, cmap=plt.cm.Spectral)\n",
    "#plt.show()\n",
    "#print(X[:5])\n",
    "#print(y[:5])\n",
    "print(len(X))"
   ]
  },
  {
   "cell_type": "code",
   "execution_count": 3,
   "metadata": {},
   "outputs": [],
   "source": [
    "#perceptron\n",
    "class Perceptron:\n",
    "    def __init__(self, weights=[]):\n",
    "        #print(\"Inside my perceptron\")\n",
    "        self.weights = weights\n",
    "        \n",
    "    def predict(self, row):\n",
    "        if (len(self.weights) != len(row)+1):\n",
    "            raise ValueError(\"weights don't match input\")\n",
    "        \n",
    "        bias = self.weights[0]\n",
    "        output = bias\n",
    "        for i,k in enumerate(row):\n",
    "            output += row[i] * self.weights[i+1]\n",
    "        if (output > 0.):\n",
    "            output = 1\n",
    "        else:\n",
    "            output = 0\n",
    "        return output\n",
    "    \n",
    "    def train_weights(self, rows, labels, epochs, learning_rate):\n",
    "        for epoch in range(epochs):\n",
    "            squared_errors = 0\n",
    "            for i in range(len(rows)):\n",
    "                prediction = self.predict(rows[i])\n",
    "                error = labels[i] - prediction\n",
    "                squared_errors += error ** 2\n",
    "                self.update_weights(rows[i], error, learning_rate)\n",
    "            #print(\"Epoch %d: Squared Error is: %d\" % (epoch, squared_errors))\n",
    "        \n",
    "    def update_weights(self, row, error, learning_rate):\n",
    "        self.weights[0] = self.weights[0] + learning_rate * error\n",
    "        for i in range(len(row)):\n",
    "            self.weights[i+1] = self.weights[i+1] + learning_rate * error * row[i]\n",
    "    \n",
    "    \n",
    "    def evaluate(self, outputs, expected_outputs):\n",
    "        if (len(outputs) != len(expected_outputs)):\n",
    "            raise ValueError(\"number of outputs and expected outputs don't match\")\n",
    "        correct = 0\n",
    "        for i,k in enumerate(outputs):\n",
    "            if (outputs[i] == expected_outputs[i]):\n",
    "                correct += 1\n",
    "        return correct/len(outputs) * 100\n",
    "    \n",
    "    def test_(self, rows, labels):\n",
    "        outputs = []\n",
    "        for i,k in enumerate(rows):\n",
    "            output = self.predict(rows[i])\n",
    "            outputs.append(output)\n",
    "        accuracy = self.evaluate(outputs, labels)\n",
    "        print(\"Accuracy is: \", accuracy)\n",
    "    \n",
    "    \n",
    "    \n",
    "    \n",
    "            \n",
    "            "
   ]
  },
  {
   "cell_type": "code",
   "execution_count": 34,
   "metadata": {},
   "outputs": [
    {
     "name": "stdout",
     "output_type": "stream",
     "text": [
      "Evaluating with random weights on entire data\n",
      "Accuracy is:  53.5\n",
      "Evaluating with trained weights on entire data\n",
      "Accuracy is:  83.0\n",
      "Evaluating with random weights on test data\n",
      "Accuracy is:  50.0\n",
      "Evaluating with trained weights on test data\n",
      "Accuracy is:  78.0\n"
     ]
    }
   ],
   "source": [
    "rows = X\n",
    "labels = y\n",
    "weights = [1, 2, 3]\n",
    "\n",
    "training_rows = X[:150]\n",
    "training_labels = y[:150]\n",
    "\n",
    "testing_rows = X[150:]\n",
    "testing_labels = y[150:]\n",
    "\n",
    "#print (testing_rows)\n",
    "#print (testing_labels)\n",
    "\n",
    "p = Perceptron(weights)\n",
    "print(\"Evaluating with random weights on entire data\")\n",
    "p.test_(rows, labels)\n",
    "print(\"Evaluating with trained weights on entire data\")\n",
    "p.train_weights(X, y, 30, .01)\n",
    "p.test_(rows, labels)\n",
    "\n",
    "weights = [1, 2, 3]\n",
    "p2 = Perceptron(weights)\n",
    "#print(p2.weights)\n",
    "print(\"Evaluating with random weights on test data\")\n",
    "p2.test_(testing_rows, testing_labels)\n",
    "print(\"Evaluating with trained weights on test data\")\n",
    "p2.train_weights(training_rows, training_labels, 18, .05)\n",
    "p2.test_(testing_rows, testing_labels)\n"
   ]
  },
  {
   "cell_type": "code",
   "execution_count": null,
   "metadata": {
    "collapsed": true
   },
   "outputs": [],
   "source": []
  },
  {
   "cell_type": "code",
   "execution_count": null,
   "metadata": {
    "collapsed": true
   },
   "outputs": [],
   "source": []
  },
  {
   "cell_type": "code",
   "execution_count": null,
   "metadata": {
    "collapsed": true
   },
   "outputs": [],
   "source": []
  }
 ],
 "metadata": {
  "kernelspec": {
   "display_name": "Python 3",
   "language": "python",
   "name": "python3"
  },
  "language_info": {
   "codemirror_mode": {
    "name": "ipython",
    "version": 3
   },
   "file_extension": ".py",
   "mimetype": "text/x-python",
   "name": "python",
   "nbconvert_exporter": "python",
   "pygments_lexer": "ipython3",
   "version": "3.6.3"
  }
 },
 "nbformat": 4,
 "nbformat_minor": 2
}
