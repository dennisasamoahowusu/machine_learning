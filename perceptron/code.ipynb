{
 "cells": [
  {
   "cell_type": "code",
   "execution_count": 6,
   "metadata": {},
   "outputs": [],
   "source": [
    "import numpy as np\n",
    "from sklearn.datasets import make_moons\n",
    "import matplotlib.pyplot as plt\n"
   ]
  },
  {
   "cell_type": "code",
   "execution_count": 9,
   "metadata": {},
   "outputs": [
    {
     "name": "stdout",
     "output_type": "stream",
     "text": [
      "[[ 0.74346118  0.46465633]\n",
      " [ 1.65755662 -0.63203157]\n",
      " [-0.15878875  0.25584465]\n",
      " [-1.088752   -0.39694315]\n",
      " [ 1.768052   -0.25443213]]\n",
      "[0 1 1 0 1]\n"
     ]
    }
   ],
   "source": [
    "#displaying data\n",
    "np.random.seed(0)\n",
    "X, y = make_moons(200, noise=0.20)\n",
    "plt.scatter(X[:,0], X[:,1], s=40, c=y, cmap=plt.cm.Spectral)\n",
    "#plt.show()\n",
    "print(X[:5])\n",
    "print(y[:5])"
   ]
  },
  {
   "cell_type": "code",
   "execution_count": 44,
   "metadata": {},
   "outputs": [],
   "source": [
    "#perceptron\n",
    "class Perceptron:\n",
    "    def __init__(self):\n",
    "        print(\"Inside my perceptron\")\n",
    "    def predict(self, row, weights):\n",
    "        if (len(weights) != len(row)+1):\n",
    "            raise ValueError(\"weights don't match input\")\n",
    "        \n",
    "        bias = weights[0]\n",
    "        output = bias\n",
    "        for i,k in enumerate(row):\n",
    "            output += row[i] * weights[i+1]\n",
    "        if (output > 0.):\n",
    "            output = 1\n",
    "        else:\n",
    "            output = 0\n",
    "        return output\n",
    "    \n",
    "    def evaluate(self, ouputs, expected_outputs):\n",
    "        if (len(outputs) != len(expected_outputs)):\n",
    "            raise ValueError(\"number of outputs and expected outputs don't match\")\n",
    "        correct = 0\n",
    "        for i,k in enumerate(outputs):\n",
    "            if (ouputs[i] == expected_outputs[i]):\n",
    "                correct += 1\n",
    "        return correct/len(outputs) * 100\n",
    "            \n",
    "            "
   ]
  },
  {
   "cell_type": "code",
   "execution_count": 45,
   "metadata": {},
   "outputs": [
    {
     "name": "stdout",
     "output_type": "stream",
     "text": [
      "Inside my perceptron\n",
      "Output is: 1 | Expected 0\n",
      "Output is: 1 | Expected 1\n",
      "Output is: 1 | Expected 1\n",
      "Output is: 0 | Expected 0\n",
      "Output is: 1 | Expected 1\n",
      "80.0\n"
     ]
    }
   ],
   "source": [
    "rows = X[:5]\n",
    "expected_outputs = y[:5]\n",
    "weights = [1, 2, 3]\n",
    "\n",
    "outputs = []\n",
    "p = Perceptron()\n",
    "for i,k in enumerate(rows):\n",
    "    output = p.predict(rows[i], weights)\n",
    "    outputs.append(output)\n",
    "    print(\"Output is: %d | Expected %d\" % (output, expected_outputs[i]))\n",
    "    \n",
    "print(p.evaluate(outputs, expected_outputs))"
   ]
  },
  {
   "cell_type": "code",
   "execution_count": null,
   "metadata": {
    "collapsed": true
   },
   "outputs": [],
   "source": []
  }
 ],
 "metadata": {
  "kernelspec": {
   "display_name": "Python 3",
   "language": "python",
   "name": "python3"
  },
  "language_info": {
   "codemirror_mode": {
    "name": "ipython",
    "version": 3
   },
   "file_extension": ".py",
   "mimetype": "text/x-python",
   "name": "python",
   "nbconvert_exporter": "python",
   "pygments_lexer": "ipython3",
   "version": "3.6.3"
  }
 },
 "nbformat": 4,
 "nbformat_minor": 2
}
